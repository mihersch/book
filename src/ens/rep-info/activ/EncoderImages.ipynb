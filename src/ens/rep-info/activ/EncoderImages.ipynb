{
 "cells": [
  {
   "cell_type": "markdown",
   "id": "lasting-viewer",
   "metadata": {},
   "source": [
    "# 2. Images numériques\n",
    "\n",
    "La grotte de Lascaux est témoin d'une des premières tentatives de l'humanité de figer des images sur un support matériel.\n",
    "\n",
    "En termes de science informatique, il s'agit de **l'encodage d'une image** sur un substrat rocheux à l'aide de peinture.\n",
    "\n",
    "![](https://upload.wikimedia.org/wikipedia/commons/1/1e/Lascaux_painting.jpg)\n",
    "\n",
    "Les images, de nos jours, sont utilisées énormément pour les jeux vidéo, la télévision, la réalité virtuelle.\n",
    "\n",
    "*Comment est‐ce qu'on fait pour les afficher concrètement sur un écran ?*\n"
   ]
  },
  {
   "cell_type": "markdown",
   "id": "connected-majority",
   "metadata": {},
   "source": [
    "## 2.1. Comment coder une image\n",
    "\n",
    "Une image peut être représentée sous la forme d'une grille de carrés, ces carrés sont appelés des **pixels**.\n",
    "\n",
    "Les pixels, ce sont des assemblages de petits points de différentes couleurs, du vert, du bleu et du rouge, \n",
    "qu'on va allumer pour faire croire à l'œil qu'il s'agit d'une couleur particulière.\n",
    "\n",
    "Ils sont tellement petits que l'œil ne peut pas distinguer les trois composantes de chaque couleur :\n",
    "\n",
    "- le rouge, \n",
    "- le vert, \n",
    "- le bleu.\n",
    "\n",
    "Une image est donc un tableau en deux dimensions composé de points élémentaires, des pixels. "
   ]
  },
  {
   "cell_type": "markdown",
   "id": "reported-encyclopedia",
   "metadata": {},
   "source": [
    "Pour créer des tableaux et les transformer en image, il faut utiliser des modules aditionnels, *des sortes d'extensions au langage* .  \n",
    "Nous allons utiliser 2 modules en particulier :\n",
    "\n",
    "- `numpy`\n",
    "- `matplotlib`\n",
    "\n",
    "Numpy est une librairie destinée à manipuler des matrices ou tableaux multidimensionnels ainsi que des fonctions mathématiques opérant sur ces tableaux.\n",
    "Le module matplotlib regroupe un grand nombre de fonctions qui servent à créer des graphiques et les personnaliser, elles sont rassemblées dans le sous-module `pyplot`.\n",
    "\n",
    "Les 2 lignes de code suivante servent à charger ces modules afin de pouvoir utiliser leurs fonctionnalités.  \n",
    "\n",
    "**Vous devez impérativement exécuter la cellule suivante avant d'aller plus loin**, sinon les instructions de ce Notebook ne fonctionneront pas."
   ]
  },
  {
   "cell_type": "code",
   "execution_count": null,
   "id": "affected-escape",
   "metadata": {},
   "outputs": [],
   "source": [
    "import numpy as np\n",
    "import matplotlib.pyplot as plt"
   ]
  },
  {
   "cell_type": "markdown",
   "id": "regulated-hypothetical",
   "metadata": {},
   "source": [
    "    \n",
    "## 2.2. Trois types de «couleurs»\n",
    "\n",
    "### 2.2.1. Images en noir et blanc\n",
    "Une image noir et blanc est une image ou chaque pixel peut avoir deux valeurs: \n",
    "\n",
    "- 0 = noir\n",
    "- 1 = blanc\n",
    "\n",
    "Pour créer des images dans la suite de ce notebook, nous allons systématiquement procéder de la même manière, en 2 étapes :\n",
    "\n",
    "1. Créer une variable et lui affecter les données de notre image sous forme de tableau à 2 dimensions\n",
    "2. Afficher l'image"
   ]
  },
  {
   "cell_type": "code",
   "execution_count": null,
   "id": "developing-deviation",
   "metadata": {},
   "outputs": [],
   "source": [
    "# Créer une variable et lui affecter les données\n",
    "twopixel = [[0,1]]\n",
    "\n",
    "# Afficher l'image\n",
    "img = plt.imshow(twopixel, cmap='gray')"
   ]
  },
  {
   "cell_type": "markdown",
   "id": "smoking-investment",
   "metadata": {},
   "source": [
    "Notre tableau est défini par une paire de crochets [ ] à l'intérieur duquel chaque ligne de pixel est séparé par des virgules.  \n",
    "Chaque ligne est elle aussi définie par une paire de crochets [ ] à l'intérieur de laquelle les pixels sont également séparés par des virgules.\n",
    "\n",
    "**Attention toutes les lignes doivent contenir le même nombre de pixel.**\n",
    "\n",
    "Si on souhaite ajouter une seconde ligne de pixel à l'exemple précédent, il suffit d'écrire :"
   ]
  },
  {
   "cell_type": "code",
   "execution_count": null,
   "id": "spread-seller",
   "metadata": {},
   "outputs": [],
   "source": [
    "# Créer une variable et lui affecter les données\n",
    "twopixel = [[0,1],[1,0]]\n",
    "\n",
    "# Afficher l'image\n",
    "img = plt.imshow(twopixel, cmap='gray')"
   ]
  },
  {
   "cell_type": "markdown",
   "id": "abroad-cameroon",
   "metadata": {},
   "source": [
    "Voici un exemple un tout petit peu plus compliqué d'une image de 11 x 8 pixels"
   ]
  },
  {
   "cell_type": "code",
   "execution_count": null,
   "id": "excited-landscape",
   "metadata": {},
   "outputs": [],
   "source": [
    "# On crée la matrice de pixel représentant notre image et on la stocke dans une variable\n",
    "alien = [[1,1,0,1,1,1,1,1,0,1,1],\n",
    "       [1,1,1,0,1,1,1,0,1,1,1],\n",
    "       [1,1,0,0,0,0,0,0,0,1,1],\n",
    "       [1,0,0,1,0,0,0,1,0,0,1],\n",
    "       [0,0,0,0,0,0,0,0,0,0,0],\n",
    "       [0,1,0,0,0,0,0,0,0,1,0],\n",
    "       [0,1,0,1,1,1,1,1,0,1,0],\n",
    "       [1,1,1,0,0,1,0,0,1,1,1]]\n",
    "#On affiche ensuite notre image avec la fonction imshow en lui donnant en paramètre la variable contenant l'image\n",
    "img = plt.imshow(alien, cmap='gray')"
   ]
  },
  {
   "cell_type": "markdown",
   "id": "thousand-insider",
   "metadata": {},
   "source": [
    "#### Exercice\n",
    "\n",
    "Reproduisez le code ci-dessus et modifiez-le afin d'obtenir l'alien ci-dessous\n",
    "\n",
    "![Alien Up](./alien_up.png)"
   ]
  },
  {
   "cell_type": "code",
   "execution_count": null,
   "id": "subjective-produce",
   "metadata": {},
   "outputs": [],
   "source": [
    "#Votre code ici"
   ]
  },
  {
   "cell_type": "markdown",
   "id": "gothic-thumb",
   "metadata": {},
   "source": [
    "### 2.2.2. Images en niveau de gris\n",
    "\n",
    "Si on veut avoir une image en niveaux de gris, on va pouvoir utiliser par exemple huit bits (1 octet) \n",
    "pour chacun des pixels.\n",
    "\n",
    "Huit bits, ça nous donne 256 valeurs possibles (2 puissance 8). \n",
    "\n",
    "On va avoir le **zéro qui va être du noir**, **255 le maximum qui sera du blanc**, et les valeurs intermédiaires qui seront des gris plus ou moins foncés. \n",
    "\n",
    "*On pourrait aussi utiliser un nombre de bits différents pour augmenter ou diminuer le nombre de niveaux de gris possibles.  \n",
    "Une alternative serait également d'utiliser une valeur décimale entre 0 (= noir) et 1 (= blanc)*"
   ]
  },
  {
   "cell_type": "code",
   "execution_count": null,
   "id": "cardiac-surfing",
   "metadata": {},
   "outputs": [],
   "source": [
    "# On crée la matrice de pixel représentant notre image et on la stocke dans une variable\n",
    "ndg = [[0,0.2,0.4,0.6,0.8,1]]\n",
    "\n",
    "#On affiche ensuite notre image avec la fonction imshow en lui donnant en paramètre la variable contenant l'image\n",
    "img = plt.imshow(ndg, cmap='gray')"
   ]
  },
  {
   "cell_type": "markdown",
   "id": "sonic-ivory",
   "metadata": {},
   "source": [
    "#### Exercice\n",
    "\n",
    "En utilisant le même principe que l'exercice précédent, créez le cœur de Link\n",
    "\n",
    "![LinkHeart](./heart.png)"
   ]
  },
  {
   "cell_type": "code",
   "execution_count": null,
   "id": "german-benjamin",
   "metadata": {},
   "outputs": [],
   "source": [
    "#Votre code ici"
   ]
  },
  {
   "cell_type": "markdown",
   "id": "processed-chart",
   "metadata": {},
   "source": [
    "### 2.2.3. Images en couleur\n",
    "Enfin, on va pouvoir faire de la couleur en combinant du rouge, du vert et du bleu.\n",
    "\n",
    "#### Couleur de base\n",
    "\n",
    "Une couleur **primaire** est une couleur qui ne peut pas être reproduite par un mélange d'autres couleurs. \n",
    "\n",
    "\n",
    "Toutes les couleurs peuvent donc être créées avec les couleurs de base rouge, vert et bleu.\n",
    "\n",
    "![](https://upload.wikimedia.org/wikipedia/commons/1/14/AdditiveColorMixing.png)\n",
    "\n",
    "Le mélange des trois couleurs de base donne la couleur blanche."
   ]
  },
  {
   "cell_type": "markdown",
   "id": "contrary-rider",
   "metadata": {},
   "source": [
    "#### Système RGB\n",
    "\n",
    "Le système RGB (Red, Green, Blue) définit une couleur par ces 3 composantes **Rouge, Vert, Bleu**.\n",
    "Une couleur est donc un tuple (collection ordonnée de plusieurs éléments), et nous pouvons définir les 3 couleurs de base comme ceci:"
   ]
  },
  {
   "cell_type": "code",
   "execution_count": null,
   "id": "demographic-advice",
   "metadata": {},
   "outputs": [],
   "source": [
    "#On défini une couleur comme un tuple RGB stocké dans une variable\n",
    "rouge = np.array([255, 0, 0]) \n",
    "vert = np.array([0, 255, 0]) \n",
    "bleu = np.array([0, 0, 255])"
   ]
  },
  {
   "cell_type": "markdown",
   "id": "failing-triumph",
   "metadata": {},
   "source": [
    "Ce qui nous permet de créer une image avec 3 pixels: rouge, vert, bleu"
   ]
  },
  {
   "cell_type": "code",
   "execution_count": null,
   "id": "pressing-quantity",
   "metadata": {},
   "outputs": [],
   "source": [
    "rgb = [[rouge, vert, bleu]]\n",
    "img = plt.imshow(rgb);"
   ]
  },
  {
   "cell_type": "markdown",
   "id": "steady-portland",
   "metadata": {},
   "source": [
    "#### Exercice  \n",
    "Definissez la couleur blanche et créez une image du drapeau d'Italie (vert, blanc, rouge) puis de France (bleu, blanc, rouge)."
   ]
  },
  {
   "cell_type": "code",
   "execution_count": null,
   "id": "interested-front",
   "metadata": {},
   "outputs": [],
   "source": [
    "#Votre code ici"
   ]
  },
  {
   "cell_type": "markdown",
   "id": "random-incentive",
   "metadata": {},
   "source": [
    "## 2.3. Mélanger des couleurs"
   ]
  },
  {
   "cell_type": "markdown",
   "id": "fixed-colonial",
   "metadata": {},
   "source": [
    "### 2.3.1. Additivité des couleurs\n",
    "\n",
    "Les couleurs sont additives.\n",
    "\n",
    "- rouge + bleu  donne **magenta**\n",
    "- rouge + vert  donne **jaune**\n",
    "- vert  + bleu  donne **cyan**"
   ]
  },
  {
   "cell_type": "code",
   "execution_count": null,
   "id": "mathematical-naples",
   "metadata": {},
   "outputs": [],
   "source": [
    "magenta = rouge + bleu\n",
    "jaune  = rouge  + vert\n",
    "cyan   = bleu   + vert"
   ]
  },
  {
   "cell_type": "markdown",
   "id": "internal-detail",
   "metadata": {},
   "source": [
    "Vérifions les codes RGB de nos mélanges de couleurs"
   ]
  },
  {
   "cell_type": "code",
   "execution_count": null,
   "id": "accurate-wagner",
   "metadata": {
    "jupyter": {
     "source_hidden": true
    }
   },
   "outputs": [],
   "source": [
    "print(jaune, 'jaune')\n",
    "print(cyan, 'cyan')\n",
    "print(magenta, 'magenta')"
   ]
  },
  {
   "cell_type": "code",
   "execution_count": null,
   "id": "classified-german",
   "metadata": {},
   "outputs": [],
   "source": [
    "cmj = np.array([[cyan, magenta, jaune]])\n",
    "img = plt.imshow(cmj);"
   ]
  },
  {
   "cell_type": "markdown",
   "id": "tribal-submission",
   "metadata": {},
   "source": [
    "#### Exercice  \n",
    "Créez une image de taille 3x3 ou la colonne du milieu représente le mélange des deux couleurs à gauche et droite.\n",
    "\n",
    "    rouge magenta bleu\n",
    "    vert  jaune   rouge\n",
    "    bleu  cyan    vert"
   ]
  },
  {
   "cell_type": "code",
   "execution_count": null,
   "id": "configured-thinking",
   "metadata": {},
   "outputs": [],
   "source": [
    "#Votre code ici"
   ]
  },
  {
   "cell_type": "markdown",
   "id": "monthly-farmer",
   "metadata": {},
   "source": [
    "### 2.3.2. Noir et blanc\n",
    "\n",
    "Toutes les couleurs mélangées donnent le blanc. L'absence de toute couleur donne le noir."
   ]
  },
  {
   "cell_type": "code",
   "execution_count": null,
   "id": "african-syntax",
   "metadata": {},
   "outputs": [],
   "source": [
    "blanc = rouge + vert + bleu\n",
    "noir = [0, 0, 0]"
   ]
  },
  {
   "cell_type": "code",
   "execution_count": null,
   "id": "united-consent",
   "metadata": {},
   "outputs": [],
   "source": [
    "cmjn = np.array([[cyan, magenta, jaune, noir, blanc]])\n",
    "img  = plt.imshow(cmjn);"
   ]
  },
  {
   "cell_type": "markdown",
   "id": "veterinary-active",
   "metadata": {},
   "source": [
    "#### Exercice \n",
    "Nous pouvons maintenant créer des simples icones, comme par exemple le drapeau Suisse.\n",
    "\n",
    "![SwissFlag](./suisse.png)\n"
   ]
  },
  {
   "cell_type": "code",
   "execution_count": null,
   "id": "extraordinary-listening",
   "metadata": {},
   "outputs": [],
   "source": [
    "#Votre code ici"
   ]
  },
  {
   "cell_type": "markdown",
   "id": "processed-protein",
   "metadata": {},
   "source": [
    "## 2.4. Création d'icones\n",
    "\n",
    "Afin de créer votre icone personalisée, vous devez commencer par créer une image.  \n",
    "Cette image devra ensuite être déclinée en plusieurs tailles. Toutes ces images devront être rassemblée dans un dossier qui sera ensuite transformé en un jeu d'icones utilisables.\n",
    "\n",
    "### 2.4.1. Première étape - Création de l'image\n",
    "\n",
    "Créez une image de taille 32x32 représentant ce que vous souhaitez."
   ]
  },
  {
   "cell_type": "code",
   "execution_count": null,
   "id": "living-subdivision",
   "metadata": {},
   "outputs": [],
   "source": [
    "#Votre code ici"
   ]
  },
  {
   "cell_type": "markdown",
   "id": "beneficial-cycle",
   "metadata": {},
   "source": [
    "### 2.4.2. Enregistrez votre image\n",
    "\n",
    "Pour enregistrer votre image, nous allons rendre les axes invisibles et choisir le nom de fichier, par exemple `toto.png` .  \n",
    "Le code ci-dessous va s'occuper de faire cela pour vous, il vous faut juste remplacer `monImage` par la variable qui contient votre image et choisir un nom pour votre image à la place de `toto.png`, puis d'executer la cellule."
   ]
  },
  {
   "cell_type": "code",
   "execution_count": null,
   "id": "ecological-vietnam",
   "metadata": {},
   "outputs": [],
   "source": [
    "#Mettez le le nom de la variable contenant votre image à la place de monImage\n",
    "icn = np.array(monImage)\n",
    "\n",
    "imgName = 'toto.png'\n",
    "\n",
    "img = plt.imshow(icn)\n",
    "img.axes.get_xaxis().set_visible(False)\n",
    "img.axes.get_yaxis().set_visible(False)\n",
    "plt.imsave(imgName, icn/255)"
   ]
  },
  {
   "cell_type": "markdown",
   "id": "crude-poster",
   "metadata": {},
   "source": [
    "### 2.4.3. Générez le jeu d'icones\n",
    "\n",
    "Pour générer un jeu d'icones pour OSX, il faut créer l'icone à différentes taille, typiquement 16x16, 32x32, 128x128, 256x256 et 512x512.\n",
    "\n",
    "La commande pour transformer votre image en icon 32x32 pour iconset est :\n",
    "> sips -z 32 32 monImage.png --out icon_32x32.png\n",
    "\n",
    "Une fois les différentes tailles générées, on les met dans un dossier FolderName.iconset sur lequel on applique la commande :\n",
    ">iconutil -c icns FolderName.iconset\n",
    "\n",
    "En attendant que vous ayez les compétences pour coder ces instructions par vous même, la cellule ci-dessous va le faire pour vous.  \n",
    "Après son exécution, vous devriez avoir un nouveau fichier `myIcon.icns` que vous pourrez utiliser pour remplacer l'icone de n'importequel fichier ou dossier en le faisant glisser à la place de l'icone actuelle dans la fenêtre d'information (cmd + i)."
   ]
  },
  {
   "cell_type": "code",
   "execution_count": null,
   "id": "solar-wings",
   "metadata": {},
   "outputs": [],
   "source": [
    "import os\n",
    "os.system(\"mkdir myIcon.iconset\")\n",
    "for s in [16, 32, 128, 256, 512]:\n",
    "    os.system(f\"sips -z {s} {s} toto.png --out icon_{s}x{s}.png\")\n",
    "os.system(\"mv icon_*.png myIcon.iconset\")\n",
    "os.system(\"iconutil -c icns myIcon.iconset\")"
   ]
  }
 ],
 "metadata": {
  "kernelspec": {
   "display_name": "Python 3",
   "language": "python",
   "name": "python3"
  },
  "language_info": {
   "codemirror_mode": {
    "name": "ipython",
    "version": 3
   },
   "file_extension": ".py",
   "mimetype": "text/x-python",
   "name": "python",
   "nbconvert_exporter": "python",
   "pygments_lexer": "ipython3",
   "version": "3.8.5"
  },
  "latex_envs": {
   "LaTeX_envs_menu_present": true,
   "autoclose": false,
   "autocomplete": true,
   "bibliofile": "biblio.bib",
   "cite_by": "apalike",
   "current_citInitial": 1,
   "eqLabelWithNumbers": true,
   "eqNumInitial": 1,
   "hotkeys": {
    "equation": "Ctrl-E",
    "itemize": "Ctrl-I"
   },
   "labels_anchors": false,
   "latex_user_defs": false,
   "report_style_numbering": false,
   "user_envs_cfg": false
  },
  "toc": {
   "base_numbering": 1,
   "nav_menu": {},
   "number_sections": true,
   "sideBar": true,
   "skip_h1_title": true,
   "title_cell": " Contents",
   "title_sidebar": "Contents",
   "toc_cell": false,
   "toc_position": {},
   "toc_section_display": true,
   "toc_window_display": true
  }
 },
 "nbformat": 4,
 "nbformat_minor": 5
}
